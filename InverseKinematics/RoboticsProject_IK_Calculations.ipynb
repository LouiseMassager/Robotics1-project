{
 "cells": [
  {
   "cell_type": "markdown",
   "id": "04d71b0d",
   "metadata": {},
   "source": [
    "# Robotics Project: Inverse Kinematics (1)\n",
    "\n",
    "### Objective\n",
    "\n",
    "The goal is to compute the joint angles of the MARA robot from a desired end-effector position and orientation."
   ]
  },
  {
   "cell_type": "code",
   "execution_count": 1,
   "id": "3d79ecd8",
   "metadata": {},
   "outputs": [],
   "source": [
    "import math\n",
    "import numpy as np"
   ]
  },
  {
   "cell_type": "markdown",
   "id": "733b096b",
   "metadata": {},
   "source": [
    "## Step 0: Specifications\n",
    "\n",
    "Here we can change the robot parameters according to the robot used and the desired end-effector position and orientation.\n",
    "\n",
    "### Robot parameters\n",
    "\n",
    "<div>\n",
    "    <img src=\"mara.png\" width=\"250\"/>\n",
    "</div>"
   ]
  },
  {
   "cell_type": "code",
   "execution_count": 2,
   "id": "6f69a4a6",
   "metadata": {},
   "outputs": [
    {
     "name": "stdout",
     "output_type": "stream",
     "text": [
      "d1 = 0.25492\n",
      "a2 = 0.19998\n",
      "a3 = 0.31\n",
      "d6 = 0.3917\n"
     ]
    }
   ],
   "source": [
    "# For the MARA robot:\n",
    "d1 = 0.09122+0.1637  # distance from the base to joint 2\n",
    "a2 = 0.19998         # length of Link 2\n",
    "a3 = 0.1493+0.1607   # distance from joint 3 to the wrist center\n",
    "d6 = 0.1468+0.2449   # distance from the wrist center to the end-effector\n",
    "\n",
    "print(\"d1 = \" + str(round(d1,5)))\n",
    "print(\"a2 = \" + str(round(a2,5)))\n",
    "print(\"a3 = \" + str(round(a3,5)))\n",
    "print(\"d6 = \" + str(round(d6,5)))"
   ]
  },
  {
   "cell_type": "markdown",
   "id": "4ece4352",
   "metadata": {},
   "source": [
    "### Desired end-effector position and orientation\n",
    "\n",
    "As a first verification, some easily visualized cases were used:\n",
    "\n",
    "- The robot stands straight up (i.e. is aligned with the $z$-axis).\n",
    "    - $x=0$ ; $y=0$ ; $z=d_1+d_6+a_2+a_3$\n",
    "\n",
    "\n",
    "- The robot moves in the $x$-direction.\n",
    "    - $x=a_2$ ; $y=0$ ; $z=d_1+d_6+a_3$\n",
    "    - $x=a_3$ ; $y=0$ ; $z=d_1+d_6+a_2$\n",
    "    - $x=a_2+a_3$ ; $y=0$ ; $z=d_1+d_6$\n",
    "\n",
    "\n",
    "- The robot moves in the $y$-direction.\n",
    "    - $x=0$ ; $y=a_2$ ; $z=d_1+d_6+a_3$\n",
    "    - $x=0$ ; $y=a_3$ ; $z=d_1+d_6+a_2$\n",
    "    - $x=0$ ; $y=a_2+a_3$ ; $z=d_1+d_6$"
   ]
  },
  {
   "cell_type": "code",
   "execution_count": 3,
   "id": "1be6ff91",
   "metadata": {},
   "outputs": [
    {
     "name": "stdout",
     "output_type": "stream",
     "text": [
      "Desired position:\n",
      "pex = 0.31\n",
      "pey = 0\n",
      "pez = 0.8466\n",
      "\n",
      "Desired orientation:\n",
      "yaw = 0°\n",
      "pitch = 0°\n",
      "roll = 0°\n"
     ]
    }
   ],
   "source": [
    "# Desired end-effector position\n",
    "pex = a3\n",
    "pey = 0\n",
    "pez = a2+d1+d6\n",
    "# robot max. height = 1.1566\n",
    "\n",
    "# Desired end-effector orientation\n",
    "yaw = 0\n",
    "pitch = 0  # angles in degrees\n",
    "roll = 0\n",
    "\n",
    "print(\"Desired position:\")\n",
    "print(\"pex = \" + str(pex))\n",
    "print(\"pey = \" + str(pey))\n",
    "print(\"pez = \" + str(pez))\n",
    "\n",
    "print(\"\")\n",
    "\n",
    "print(\"Desired orientation:\")\n",
    "print(\"yaw = \" + str(yaw) + \"°\")\n",
    "print(\"pitch = \" + str(pitch) + \"°\")\n",
    "print(\"roll = \" + str(roll) + \"°\")"
   ]
  },
  {
   "cell_type": "markdown",
   "id": "c88d993f",
   "metadata": {},
   "source": [
    "***\n",
    "\n",
    "## Step 1: Computation of rotation matrix 0R6\n",
    "\n",
    "The rotation matrix 0R6 is computed directly from the desired yaw-pitch-roll angles."
   ]
  },
  {
   "cell_type": "code",
   "execution_count": 4,
   "id": "e2250a4a",
   "metadata": {},
   "outputs": [
    {
     "name": "stdout",
     "output_type": "stream",
     "text": [
      "True\n",
      "True\n",
      "True\n",
      "True\n",
      "[[ True  True  True]\n",
      " [ True  True  True]\n",
      " [ True  True  True]]\n"
     ]
    }
   ],
   "source": [
    "def isOrthogonal(R):\n",
    "    # Check if a rotation matrix R is orthogonal\n",
    "    \n",
    "    shouldBeIdentity = np.dot(R,np.transpose(R))  # since R*R'=I\n",
    "    I = np.identity(3)\n",
    "    n = np.linalg.norm(I - shouldBeIdentity)\n",
    "    \n",
    "    return n < 1e-6  # the difference (I-R*R') should be small\n",
    "\n",
    "\n",
    "cy,sy = math.cos(math.radians(yaw)), math.sin(math.radians(yaw))\n",
    "Rx = np.array([[1,  0,   0],\n",
    "               [0, cy, -sy],\n",
    "               [0, sy,  cy]])  # [Spong p.50]\n",
    "print(isOrthogonal(Rx))  # since rotation matrix is always orthogonal\n",
    "\n",
    "cp,sp = math.cos(math.radians(pitch)), math.sin(math.radians(pitch))\n",
    "Ry = np.array([[ cp, 0, sp],\n",
    "               [  0, 1,  0],\n",
    "               [-sp, 0, cp]])  # [Spong p.50]\n",
    "print(isOrthogonal(Ry))\n",
    "\n",
    "cr,sr = math.cos(math.radians(roll)), math.sin(math.radians(roll))\n",
    "Rz = np.array([[cr, -sr, 0],\n",
    "               [sr,  cr, 0],\n",
    "               [ 0,   0, 1]])  # [Spong p.50]\n",
    "print(isOrthogonal(Rz))\n",
    "\n",
    "# rotation matrix of the end-effector orientation\n",
    "R60 = np.dot(Rz,np.dot(Ry,Rx))\n",
    "print(isOrthogonal(R60))\n",
    "\n",
    "# Verification\n",
    "R60_verif = np.array([[cr*cp, cr*sp*sy-sr*cy, cr*sp*cy+sr*sy],\n",
    "                      [sr*cp, sr*sp*sy+cr*cy, sr*sp*cy-cr*sy],\n",
    "                      [  -sp,          cp*sy,          cp*cy]])  # [Spong p.50]\n",
    "print(R60.round(6) == R60_verif.round(6))"
   ]
  },
  {
   "cell_type": "markdown",
   "id": "a02df683",
   "metadata": {},
   "source": [
    "## Step 2: Computation of wrist center position\n",
    "\n",
    "The wrist center position is computed from the desired end-effector position and the rotation matrix deduced from its orientation."
   ]
  },
  {
   "cell_type": "code",
   "execution_count": 5,
   "id": "0f0694e3",
   "metadata": {},
   "outputs": [
    {
     "name": "stdout",
     "output_type": "stream",
     "text": [
      "pwx = 0.31\n",
      "pwy = 0.0\n",
      "pwz = 0.45489999999999997\n"
     ]
    }
   ],
   "source": [
    "# wrist position\n",
    "pwx = pex - d6 * R60[0,2]\n",
    "pwy = pey - d6 * R60[1,2]\n",
    "pwz = pez - d6 * R60[2,2]  # [Spong p.88]\n",
    "\n",
    "print(\"pwx = \" + str(pwx))\n",
    "print(\"pwy = \" + str(pwy))\n",
    "print(\"pwz = \" + str(pwz))"
   ]
  },
  {
   "cell_type": "markdown",
   "id": "831e7109",
   "metadata": {},
   "source": [
    "## Step 3: Inverse Position problem\n",
    "\n",
    "The objective is to determine the arm joint angles ($\\theta_1$, $\\theta_2$, $\\theta_3$). The equations used are provided in the slides.\n",
    "\n",
    "### Computation of THETA1"
   ]
  },
  {
   "cell_type": "code",
   "execution_count": 6,
   "id": "ce7323ba",
   "metadata": {},
   "outputs": [
    {
     "name": "stdout",
     "output_type": "stream",
     "text": [
      "theta1 = 0.0°\n"
     ]
    }
   ],
   "source": [
    "theta1 = math.atan2(pwy,pwx)  # [Spong p.91]\n",
    "print(\"theta1 = \" + str(theta1*180/math.pi) + \"°\")"
   ]
  },
  {
   "cell_type": "markdown",
   "id": "1a61730d",
   "metadata": {},
   "source": [
    "### Computation of THETA3"
   ]
  },
  {
   "cell_type": "code",
   "execution_count": 7,
   "id": "828e2adb",
   "metadata": {},
   "outputs": [
    {
     "name": "stdout",
     "output_type": "stream",
     "text": [
      "theta3 = 90.00000000000001°\n"
     ]
    }
   ],
   "source": [
    "r = math.sqrt(pwx**2+pwy**2)\n",
    "s = pwz-d1\n",
    "D = (r**2+s**2-a2**2-a3**2)/(2*a2*a3)\n",
    "theta3 = math.atan2(math.sqrt(1-D**2),D)  # [Spong p.94]\n",
    "print(\"theta3 = \" + str(theta3*180/math.pi) + \"°\")"
   ]
  },
  {
   "cell_type": "markdown",
   "id": "d696c281",
   "metadata": {},
   "source": [
    "### Computation of THETA2"
   ]
  },
  {
   "cell_type": "code",
   "execution_count": 8,
   "id": "3178da04",
   "metadata": {},
   "outputs": [
    {
     "name": "stdout",
     "output_type": "stream",
     "text": [
      "theta2 = -24.348136759179656°\n"
     ]
    }
   ],
   "source": [
    "c3,s3 = math.cos(theta3), math.sin(theta3)\n",
    "theta2 = math.atan2(s,r) - math.atan2(a3*s3,a2+a3*c3)  # [Spong p.94]\n",
    "print(\"theta2 = \" + str(theta2*180/math.pi) + \"°\")"
   ]
  },
  {
   "cell_type": "markdown",
   "id": "da39667d",
   "metadata": {},
   "source": [
    "## Step 4: Computation of rotation matrix 0R3\n",
    "\n",
    "The rotation matrix 0R3 is computed from the obtained arm joint angles ($\\theta_1$, $\\theta_2$, $\\theta_3$)."
   ]
  },
  {
   "cell_type": "code",
   "execution_count": 9,
   "id": "9a8068d5",
   "metadata": {},
   "outputs": [
    {
     "name": "stdout",
     "output_type": "stream",
     "text": [
      "True\n",
      "[[ True  True  True]\n",
      " [ True  True  True]\n",
      " [ True  True  True]]\n"
     ]
    }
   ],
   "source": [
    "def pose(a, alpha, d, theta):\n",
    "    \n",
    "    r11 = math.cos(theta)\n",
    "    r21 = math.sin(theta)\n",
    "    r31 = 0\n",
    "    \n",
    "    r12 = - math.sin(theta) * math.cos(alpha)\n",
    "    r22 = math.cos(theta) * math.cos(alpha)\n",
    "    r32 = math.sin(alpha)\n",
    "    \n",
    "    r13 = math.sin(theta) * math.sin(alpha)\n",
    "    r23 = - math.cos(theta) * math.sin(alpha)\n",
    "    r33 = math.cos(alpha)\n",
    "    \n",
    "    px = a * math.cos(theta)\n",
    "    py = a * math.sin(theta)\n",
    "    pz = d\n",
    "    \n",
    "    T = np.array([[r11, r12, r13, px],\n",
    "                  [r21, r22, r23, py],\n",
    "                  [r31, r32, r33, pz],\n",
    "                  [  0,   0,   0,  1]])  # [Spong p.69]\n",
    "    \n",
    "    return T\n",
    "\n",
    "\n",
    "A1 = pose(0, math.pi/2, d1, theta1)\n",
    "A2 = pose(a2, 0, 0, theta2)\n",
    "A3 = pose(a3, 0, 0, theta3)  # [Spong p.97]\n",
    "\n",
    "T30 = np.dot(np.dot(A1,A2),A3)\n",
    "\n",
    "# wrist center position\n",
    "x = T30[0,3]\n",
    "y = T30[1,3]\n",
    "z = T30[2,3]\n",
    "\n",
    "# rotation matrix of the anthropomorphic arm orientation\n",
    "R30 = T30[0:3,0:3]\n",
    "print(isOrthogonal(R30))\n",
    "\n",
    "# Verification\n",
    "c1,s1 = math.cos(theta1), math.sin(theta1)\n",
    "c23,s23 = math.cos(theta2+theta3), math.sin(theta2+theta3)\n",
    "R30_verif = np.array([[c1*c23, -c1*s23,  s1],\n",
    "                      [s1*c23, -s1*s23, -c1],\n",
    "                      [   s23,     c23,   0]])  # [Spong p.97]\n",
    "print(R30.round(6) == R30_verif.round(6))"
   ]
  },
  {
   "cell_type": "markdown",
   "id": "76c7e0aa",
   "metadata": {},
   "source": [
    "### First comparison: wrist position"
   ]
  },
  {
   "cell_type": "code",
   "execution_count": 10,
   "id": "f2dd1215",
   "metadata": {},
   "outputs": [
    {
     "name": "stdout",
     "output_type": "stream",
     "text": [
      "Actual wrist position:\n",
      "x = 0.30999999999999994\n",
      "y = 1.2245243344674383e-17\n",
      "z = 0.45489999999999997\n",
      "\n",
      "Desired wrist position:\n",
      "pwx = 0.31\n",
      "pwy = 0.0\n",
      "pwz = 0.45489999999999997\n"
     ]
    }
   ],
   "source": [
    "print(\"Actual wrist position:\")\n",
    "print(\"x = \" + str(x))\n",
    "print(\"y = \" + str(y))\n",
    "print(\"z = \" + str(z))\n",
    "\n",
    "print(\"\")\n",
    "\n",
    "print(\"Desired wrist position:\")\n",
    "print(\"pwx = \" + str(pwx))\n",
    "print(\"pwy = \" + str(pwy))\n",
    "print(\"pwz = \" + str(pwz))"
   ]
  },
  {
   "cell_type": "markdown",
   "id": "b4c21b5c",
   "metadata": {},
   "source": [
    "## Step 5: Computation of rotation matrix 3R6\n",
    "\n",
    "The rotation matrix 3R6 is computed from the previously-computed rotation matrices 0R6 and 0R3."
   ]
  },
  {
   "cell_type": "code",
   "execution_count": 11,
   "id": "d634b17c",
   "metadata": {},
   "outputs": [
    {
     "name": "stdout",
     "output_type": "stream",
     "text": [
      "True\n"
     ]
    }
   ],
   "source": [
    "# rotation matrix of the wrist with respect to the anthropomorphic arm\n",
    "R63 = np.dot(np.transpose(R30),R60)  # since 0R6 = 0R3 * 3R6\n",
    "\n",
    "print(isOrthogonal(R63))\n",
    "\n",
    "[[r11,r12,r13],\n",
    " [r21,r22,r23],\n",
    " [r31,r32,r33]] = R63"
   ]
  },
  {
   "cell_type": "markdown",
   "id": "674b968b",
   "metadata": {},
   "source": [
    "## Step 6: Inverse Orientation problem\n",
    "\n",
    "The objective is to determine the wrist joint angles ($\\theta_4$, $\\theta_5$, $\\theta_6$). The equations used correspond to the expressions of the $ZYZ$-Euler angles provided in the reference book \"Robot Modeling and Control\".\n",
    "\n",
    "### Computation of THETA5"
   ]
  },
  {
   "cell_type": "code",
   "execution_count": 12,
   "id": "435b0da5",
   "metadata": {},
   "outputs": [
    {
     "name": "stdout",
     "output_type": "stream",
     "text": [
      "theta5 = 90.0°\n"
     ]
    }
   ],
   "source": [
    "#theta5 = math.atan2(math.sqrt(1-(s1*r13-c1*r23)**2),s1*r13-c1*r23)  # [Spong p.98]\n",
    "theta5 = math.atan2(math.sqrt(1-r33**2),r33)  # [Spong p.48]\n",
    "print(\"theta5 = \" + str(theta5*180/math.pi) + \"°\")"
   ]
  },
  {
   "cell_type": "markdown",
   "id": "0ffefc8f",
   "metadata": {},
   "source": [
    "### Computation of THETA4"
   ]
  },
  {
   "cell_type": "code",
   "execution_count": 13,
   "id": "9aee44fb",
   "metadata": {},
   "outputs": [
    {
     "name": "stdout",
     "output_type": "stream",
     "text": [
      "theta4 = 24.34813675917964°\n"
     ]
    }
   ],
   "source": [
    "#theta4 = math.atan2(-c1*s23*r13-s1*s23*r23+c23*r33,c1*c23*r13+s1*c23*r23+s23*r33) + math.pi/2  # [Spong p.98]\n",
    "theta4 = math.atan2(r23,r13)  # [Spong p.48]\n",
    "print(\"theta4 = \" + str(theta4*180/math.pi) + \"°\")"
   ]
  },
  {
   "cell_type": "markdown",
   "id": "41565478",
   "metadata": {},
   "source": [
    "### Computation of THETA6"
   ]
  },
  {
   "cell_type": "code",
   "execution_count": 14,
   "id": "9565a9d2",
   "metadata": {},
   "outputs": [
    {
     "name": "stdout",
     "output_type": "stream",
     "text": [
      "theta6 = -90.0°\n"
     ]
    }
   ],
   "source": [
    "#theta6 = math.atan2(s1*r12-c1*r22,-s1*r11+c1*r21) + math.pi/2  # [Spong p.98]\n",
    "theta6 = math.atan2(r32,-r31)  # [Spong p.48]\n",
    "print(\"theta6 = \" + str(theta6*180/math.pi) + \"°\")"
   ]
  },
  {
   "cell_type": "markdown",
   "id": "d07dca6c",
   "metadata": {},
   "source": [
    "# Summary: Results\n",
    "\n",
    "The inputs and the results obtained are shown here."
   ]
  },
  {
   "cell_type": "code",
   "execution_count": 15,
   "id": "38ad9c97",
   "metadata": {},
   "outputs": [
    {
     "name": "stdout",
     "output_type": "stream",
     "text": [
      "INPUTS:\n",
      "x = 0.31\n",
      "y = 0\n",
      "z = 0.8466\n",
      "yaw = 0°\n",
      "pitch = 0°\n",
      "roll = 0°\n",
      "\n",
      "OUTPUTS:\n",
      "theta1 = 90.0°\n",
      "theta2 = 114.3481367592°\n",
      "theta3 = 90.0°\n",
      "theta4 = 0.0°\n",
      "theta5 = 24.3481367592°\n",
      "theta6 = 0.0°\n"
     ]
    }
   ],
   "source": [
    "print(\"INPUTS:\")\n",
    "print(\"x = \" + str(pex))\n",
    "print(\"y = \" + str(pey))\n",
    "print(\"z = \" + str(pez))\n",
    "print(\"yaw = \" + str(yaw) + \"°\")\n",
    "print(\"pitch = \" + str(pitch) + \"°\")\n",
    "print(\"roll = \" + str(roll) + \"°\")\n",
    "\n",
    "print(\"\")\n",
    "\n",
    "print(\"OUTPUTS:\")  # Some experimental changes have been performed to adapt the model-based results to the simulation.\n",
    "print(\"theta1 = \" + str(round(  theta1*180/math.pi + 90 ,10)) + \"°\")\n",
    "print(\"theta2 = \" + str(round( -theta2*180/math.pi + 90 ,10)) + \"°\")\n",
    "print(\"theta3 = \" + str(round(  theta3*180/math.pi      ,10)) + \"°\")\n",
    "print(\"theta4 = \" + str(round(  theta5*180/math.pi - 90 ,10)) + \"°\")\n",
    "print(\"theta5 = \" + str(round(  theta4*180/math.pi      ,10)) + \"°\")\n",
    "print(\"theta6 = \" + str(round(  theta6*180/math.pi + 90 ,10)) + \"°\")"
   ]
  },
  {
   "cell_type": "markdown",
   "id": "e82c9e16",
   "metadata": {},
   "source": [
    "***\n",
    "\n",
    "# Forward Kinematics\n",
    "\n",
    "### Objective\n",
    "\n",
    "The goal is to compute the end-effector position and orientation from the desired robot joint angles."
   ]
  },
  {
   "cell_type": "code",
   "execution_count": 16,
   "id": "a7842f73",
   "metadata": {},
   "outputs": [
    {
     "name": "stdout",
     "output_type": "stream",
     "text": [
      "True\n"
     ]
    }
   ],
   "source": [
    "A4 = pose(0, -math.pi/2, 0, theta4)\n",
    "A5 = pose(0, math.pi/2, 0, theta5)\n",
    "A6 = pose(0, 0, d6, theta6)  # [Spong p.79]\n",
    "\n",
    "T60 = np.dot(np.dot(np.dot(T30,A4),A5),A6)\n",
    "\n",
    "# end-effector position\n",
    "x = T60[0,3]\n",
    "y = T60[1,3]\n",
    "z = T60[2,3]\n",
    "\n",
    "# rotation matrix of the end-effector orientation\n",
    "R = T60[0:3,0:3]\n",
    "print(isOrthogonal(R))\n",
    "\n",
    "[[r11,r12,r13],\n",
    " [r21,r22,r23],\n",
    " [r31,r32,r33]] = R\n",
    "\n",
    "# rotation matrix to ZYX Euler angles (roll-pitch-yaw)\n",
    "phi = math.atan2(r21,r11)\n",
    "theta = math.atan2(-r31,math.sqrt(r32**2+r33**2))\n",
    "psi = math.atan2(r32,r33)  # [Spong p.50]"
   ]
  },
  {
   "cell_type": "markdown",
   "id": "ef1c4d04",
   "metadata": {},
   "source": [
    "### Final comparison: end-effector position and orientation"
   ]
  },
  {
   "cell_type": "code",
   "execution_count": 17,
   "id": "2ae99833",
   "metadata": {},
   "outputs": [
    {
     "name": "stdout",
     "output_type": "stream",
     "text": [
      "Actual end-effector position:\n",
      "x = 0.30999999999999994\n",
      "y = 1.2245243344674381e-17\n",
      "z = 0.8466\n",
      "\n",
      "Desired end-effector position:\n",
      "pex = 0.31\n",
      "pey = 0\n",
      "pez = 0.8466\n"
     ]
    }
   ],
   "source": [
    "print(\"Actual end-effector position:\")\n",
    "print(\"x = \" + str(x))\n",
    "print(\"y = \" + str(y))\n",
    "print(\"z = \" + str(z))\n",
    "\n",
    "print(\"\")\n",
    "\n",
    "print(\"Desired end-effector position:\")\n",
    "print(\"pex = \" + str(pex))\n",
    "print(\"pey = \" + str(pey))\n",
    "print(\"pez = \" + str(pez))"
   ]
  },
  {
   "cell_type": "code",
   "execution_count": 18,
   "id": "5fbdd1d0",
   "metadata": {},
   "outputs": [
    {
     "name": "stdout",
     "output_type": "stream",
     "text": [
      "Correct orientation?\n",
      "[[ True  True  True]\n",
      " [ True  True  True]\n",
      " [ True  True  True]]\n",
      "\n",
      "Actual end-effector orientation:\n",
      "psi = -3.5032177303741655e-34\n",
      "theta = -5.721188726109833e-18\n",
      "phi = 1.2246467991473532e-16\n",
      "\n",
      "Desired end-effector orientation:\n",
      "yaw = 0\n",
      "pitch = 0\n",
      "roll = 0\n"
     ]
    }
   ],
   "source": [
    "print(\"Correct orientation?\")\n",
    "print(R.round(6) == R60.round(6))\n",
    "\n",
    "print(\"\")\n",
    "\n",
    "print(\"Actual end-effector orientation:\")\n",
    "print(\"psi = \" + str(psi))\n",
    "print(\"theta = \" + str(theta))\n",
    "print(\"phi = \" + str(phi))\n",
    "\n",
    "print(\"\")\n",
    "\n",
    "print(\"Desired end-effector orientation:\")\n",
    "print(\"yaw = \" + str(yaw))\n",
    "print(\"pitch = \" + str(pitch))\n",
    "print(\"roll = \" + str(roll))"
   ]
  }
 ],
 "metadata": {
  "kernelspec": {
   "display_name": "Python 3 (ipykernel)",
   "language": "python",
   "name": "python3"
  },
  "language_info": {
   "codemirror_mode": {
    "name": "ipython",
    "version": 3
   },
   "file_extension": ".py",
   "mimetype": "text/x-python",
   "name": "python",
   "nbconvert_exporter": "python",
   "pygments_lexer": "ipython3",
   "version": "3.9.7"
  }
 },
 "nbformat": 4,
 "nbformat_minor": 5
}
