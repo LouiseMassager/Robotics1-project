{
 "cells": [
  {
   "cell_type": "markdown",
   "id": "67f4bb31",
   "metadata": {},
   "source": [
    "# Robotics Project: Inverse Kinematics (2)"
   ]
  },
  {
   "cell_type": "code",
   "execution_count": 1,
   "id": "1922c69d",
   "metadata": {},
   "outputs": [],
   "source": [
    "import math\n",
    "import numpy as np"
   ]
  },
  {
   "cell_type": "markdown",
   "id": "a3e62de1",
   "metadata": {},
   "source": [
    "## Definition of functions for implementation in ROS2"
   ]
  },
  {
   "cell_type": "code",
   "execution_count": 2,
   "id": "015080f2",
   "metadata": {},
   "outputs": [],
   "source": [
    "def isOrthogonal(R):\n",
    "    # Check if a rotation matrix R is orthogonal\n",
    "    \n",
    "    shouldBeIdentity = np.dot(R,np.transpose(R))  # since R*R'=I\n",
    "    I = np.identity(3)\n",
    "    n = np.linalg.norm(I - shouldBeIdentity)\n",
    "    \n",
    "    return n < 1e-6  # the difference (I-R*R') should be small"
   ]
  },
  {
   "cell_type": "code",
   "execution_count": 3,
   "id": "7e77930f",
   "metadata": {},
   "outputs": [],
   "source": [
    "def compute_0R6(yaw, pitch, roll):\n",
    "    # Compute rotation matrix 0R6 (end-effector frame with respect to absolute frame) from the desired yaw-pitch-roll angles\n",
    "    \n",
    "    cy,sy = math.cos(math.radians(yaw)), math.sin(math.radians(yaw))\n",
    "    Rx = np.array([[1,  0,   0],\n",
    "                   [0, cy, -sy],\n",
    "                   [0, sy,  cy]])\n",
    "    \n",
    "    cp,sp = math.cos(math.radians(pitch)), math.sin(math.radians(pitch))\n",
    "    Ry = np.array([[ cp, 0, sp],\n",
    "                   [  0, 1,  0],\n",
    "                   [-sp, 0, cp]])\n",
    "    \n",
    "    cr,sr = math.cos(math.radians(roll)), math.sin(math.radians(roll))\n",
    "    Rz = np.array([[cr, -sr, 0],\n",
    "                   [sr,  cr, 0],\n",
    "                   [ 0,   0, 1]])\n",
    "    \n",
    "    R60 = np.dot(Rz,np.dot(Ry,Rx))\n",
    "    \n",
    "    if not( isOrthogonal(Rx) and isOrthogonal(Ry) and isOrthogonal(Rz) and isOrthogonal(R60) ):\n",
    "        print(\"Custom Error: rotation matrix R60 is not orthogonal!\")\n",
    "    \n",
    "    return R60"
   ]
  },
  {
   "cell_type": "code",
   "execution_count": 4,
   "id": "db3030e2",
   "metadata": {},
   "outputs": [],
   "source": [
    "def getWristPosition(pex, pey, pez, d6, R60):\n",
    "    # Compute the wrist center position (pw) from the end-effector position (pe) and orientation (R60)\n",
    "    \n",
    "    pwx = pex - d6 * R60[0,2]\n",
    "    pwy = pey - d6 * R60[1,2]\n",
    "    pwz = pez - d6 * R60[2,2]\n",
    "    \n",
    "    return pwx, pwy, pwz"
   ]
  },
  {
   "cell_type": "code",
   "execution_count": 5,
   "id": "f98a4525",
   "metadata": {},
   "outputs": [],
   "source": [
    "def computeFirstThreeAngles(pwx, pwy, pwz, d1, a2, a3):\n",
    "    # From the desired wrist position (pw), compute the joint angles of the anthropomorphic arm: theta1, theta2, theta3\n",
    "    \n",
    "    theta1 = math.atan2(pwy,pwx)\n",
    "    \n",
    "    r = math.sqrt(pwx**2+pwy**2)\n",
    "    s = pwz-d1\n",
    "    D = (r**2+s**2-a2**2-a3**2)/(2*a2*a3)\n",
    "    \n",
    "    if D > 1:\n",
    "        print(\"Custom Error: D >> 1 !!!\")\n",
    "    \n",
    "    theta3 = math.atan2(math.sqrt(1-D**2),D)\n",
    "    \n",
    "    c3,s3 = math.cos(theta3), math.sin(theta3)\n",
    "    theta2 = math.atan2(s,r) - math.atan2(a3*s3,a2+a3*c3)\n",
    "    \n",
    "    return theta1, theta2, theta3"
   ]
  },
  {
   "cell_type": "code",
   "execution_count": 6,
   "id": "74ab6749",
   "metadata": {},
   "outputs": [],
   "source": [
    "def pose(a, alpha, d, theta):\n",
    "    # Compute the Denavit-Hartenberg matrix from the Denavit-Hartenberg parameters: a, alpha, d, theta\n",
    "    \n",
    "    r11 = math.cos(theta)\n",
    "    r21 = math.sin(theta)\n",
    "    r31 = 0\n",
    "    \n",
    "    r12 = - math.sin(theta) * math.cos(alpha)\n",
    "    r22 = math.cos(theta) * math.cos(alpha)\n",
    "    r32 = math.sin(alpha)\n",
    "    \n",
    "    r13 = math.sin(theta) * math.sin(alpha)\n",
    "    r23 = - math.cos(theta) * math.sin(alpha)\n",
    "    r33 = math.cos(alpha)\n",
    "    \n",
    "    px = a * math.cos(theta)\n",
    "    py = a * math.sin(theta)\n",
    "    pz = d\n",
    "    \n",
    "    T = np.array([[r11, r12, r13, px],\n",
    "                  [r21, r22, r23, py],\n",
    "                  [r31, r32, r33, pz],\n",
    "                  [  0,   0,   0,  1]])\n",
    "    \n",
    "    return T"
   ]
  },
  {
   "cell_type": "code",
   "execution_count": 7,
   "id": "8a6e1c1b",
   "metadata": {},
   "outputs": [],
   "source": [
    "def compute_0R3(theta1, theta2, theta3, d1, a2, a3):\n",
    "    # Compute rotation matrix 0R3 (wrist center frame with respect to absolute frame) from the 3 first joint angles\n",
    "    \n",
    "    A1 = pose(0, math.pi/2, d1, theta1)\n",
    "    A2 = pose(a2, 0, 0, theta2)\n",
    "    A3 = pose(a3, 0, 0, theta3)\n",
    "    \n",
    "    T30 = np.dot(np.dot(A1,A2),A3)\n",
    "    \n",
    "    R30 = T30[0:3,0:3]\n",
    "    \n",
    "    if not( isOrthogonal(R30) ):\n",
    "        print(\"Custom Error: rotation matrix R30 is not orthogonal!\")\n",
    "    \n",
    "    return R30"
   ]
  },
  {
   "cell_type": "code",
   "execution_count": 8,
   "id": "295424bf",
   "metadata": {},
   "outputs": [],
   "source": [
    "def computeLastThreeAngles(R63):\n",
    "    # From the end-effector orientation (R63), compute the joint angles of the spherical wrist: theta4, theta5, theta6\n",
    "    \n",
    "    [[r11,r12,r13],\n",
    "     [r21,r22,r23],\n",
    "     [r31,r32,r33]] = R63\n",
    "    \n",
    "    # From rotation matrix to ZYZ Euler angles\n",
    "    theta4 = math.atan2(r23,r13)\n",
    "    theta5 = math.atan2(math.sqrt(1-r33**2),r33)\n",
    "    theta6 = math.atan2(r32,-r31)\n",
    "    \n",
    "    return theta4, theta5, theta6"
   ]
  },
  {
   "cell_type": "code",
   "execution_count": 9,
   "id": "c9ea7755",
   "metadata": {},
   "outputs": [],
   "source": [
    "def actuator_limitations(theta_vec):\n",
    "    # Convert a set of angles (theta_vec) between -PI and PI\n",
    "    \n",
    "    for i in range(0,len(theta_vec)):\n",
    "        \n",
    "        n = abs(theta_vec[i]) // (2*math.pi)\n",
    "        \n",
    "        if theta_vec[i] < - math.pi:\n",
    "            theta_vec[i] += n*2*math.pi\n",
    "        \n",
    "        elif theta_vec[i] > math.pi:\n",
    "            theta_vec[i] -= n*2*math.pi\n",
    "        \n",
    "        else:\n",
    "            pass\n",
    "    \n",
    "    return theta_vec"
   ]
  },
  {
   "cell_type": "code",
   "execution_count": 10,
   "id": "ba8da7dd",
   "metadata": {},
   "outputs": [],
   "source": [
    "def rotationMatrix_to_EulerAngles(R):\n",
    "    # Compute the ZYX Euler angles (roll-pitch-yaw) from a rotation matrix\n",
    "    \n",
    "    [[r11,r12,r13],\n",
    "     [r21,r22,r23],\n",
    "     [r31,r32,r33]] = R\n",
    "\n",
    "    roll = math.atan2(r21,r11)\n",
    "    pitch = math.atan2(-r31,math.sqrt(r32**2+r33**2))\n",
    "    yaw = math.atan2(r32,r33)\n",
    "    \n",
    "    return yaw, pitch, roll"
   ]
  },
  {
   "cell_type": "code",
   "execution_count": 11,
   "id": "7adc4f59",
   "metadata": {},
   "outputs": [],
   "source": [
    "def forwardKinematics(theta1, theta2, theta3, theta4, theta5, theta6):\n",
    "    # Compute the end-effector position and orientation (rotation matrix) from the joint angles\n",
    "    \n",
    "    # Parameters of the MARA robot\n",
    "    d1 = 0.09122+0.1637   # distance from the base to joint 2\n",
    "    a2 = 0.19998          # length of Link 2\n",
    "    a3 = 0.1493+0.1607    # distance from joint 3 to the wrist center\n",
    "    d6 = 0.1468+0.2449    # distance from the wrist center to the end-effector\n",
    "    \n",
    "    A1 = pose(0, math.pi/2, d1, theta1)\n",
    "    A2 = pose(a2, 0, 0, theta2)\n",
    "    A3 = pose(a3, 0, 0, theta3)\n",
    "    \n",
    "    T30 = np.dot(np.dot(A1,A2),A3)\n",
    "    \n",
    "    A4 = pose(0, -math.pi/2, 0, theta4)\n",
    "    A5 = pose(0, math.pi/2, 0, theta5)\n",
    "    A6 = pose(0, 0, d6, theta6)\n",
    "    \n",
    "    T60 = np.dot(np.dot(np.dot(T30,A4),A5),A6)\n",
    "    \n",
    "    x = T60[0,3]\n",
    "    y = T60[1,3]\n",
    "    z = T60[2,3]\n",
    "    \n",
    "    R = T60[0:3,0:3]\n",
    "    \n",
    "    if not( isOrthogonal(R) ):\n",
    "        print(\"Custom Error: rotation matrix R is not orthogonal!\")\n",
    "    \n",
    "    return x, y, z, R"
   ]
  },
  {
   "cell_type": "code",
   "execution_count": 12,
   "id": "41bfd52d",
   "metadata": {},
   "outputs": [],
   "source": [
    "def IK(pex, pey, pez, yaw, pitch, roll):\n",
    "    # Compute the joint angles from the end-effector position and orientation\n",
    "    \n",
    "    # Parameters of the MARA robot\n",
    "    d1 = 0.09122+0.1637   # distance from the base to joint 2\n",
    "    a2 = 0.19998          # length of Link 2\n",
    "    a3 = 0.1493+0.1607    # distance from joint 3 to the wrist center\n",
    "    d6 = 0.1468+0.2449    # distance from the wrist center to the end-effector\n",
    "    \n",
    "    # STEP 1: Convert yaw-pitch-roll angles to rotation matrix\n",
    "    R60 = compute_0R6(yaw, pitch, roll)\n",
    "    \n",
    "    # STEP 2: Compute the wrist center position\n",
    "    pwx, pwy, pwz = getWristPosition(pex, pey, pez, d6, R60)\n",
    "    \n",
    "    # STEP 3: Compute the 3 first joint angles\n",
    "    theta1, theta2, theta3 = computeFirstThreeAngles(pwx, pwy, pwz, d1, a2, a3)\n",
    "    \n",
    "    # STEP 4: Compute rotation matrix of the anthropomorphic arm\n",
    "    R30 = compute_0R3(theta1, theta2, theta3, d1, a2, a3)\n",
    "    \n",
    "    # STEP 5: Compute rotation matrix of the wrist with respect to the arm\n",
    "    R63 = np.dot(np.transpose(R30),R60)\n",
    "    \n",
    "    if not( isOrthogonal(R63) ):\n",
    "        print(\"Custom Error: rotation matrix R63 is not orthogonal!\")\n",
    "    \n",
    "    # STEP 6: Compute the 3 last joint angles\n",
    "    theta4, theta5, theta6 = computeLastThreeAngles(R63)\n",
    "    \n",
    "    # STEP 7: Verify the Inverse Kinematics using the Forward Kinematics\n",
    "    x, y, z, R = forwardKinematics(theta1, theta2, theta3, theta4, theta5, theta6)\n",
    "    \n",
    "    if not( round(x,5)==round(pex,5) and round(y,5)==round(pey,5) and round(z,5)==round(pez,5) and np.allclose(R,R60) ):\n",
    "        print(\"Custom Error: Inverse Kinematics is wrong!\")\n",
    "    \n",
    "    # The verification should be done before the experimental changes since the Forward and Inverse Kinematics\n",
    "    # are based on the theoretical model!\n",
    "    \n",
    "    # STEP 8: Adapt the theoretical model to the simulation\n",
    "    return actuator_limitations([theta1+math.pi/2, -theta2+math.pi/2, theta3, theta5-math.pi/2, theta4, theta6+math.pi/2])"
   ]
  },
  {
   "cell_type": "markdown",
   "id": "404450b0",
   "metadata": {},
   "source": [
    "***\n",
    "\n",
    "## Computation of the Inverse Kinematics\n",
    "\n",
    "From the desired end-effector position and orientation, it computes the joint angles required to reach this position"
   ]
  },
  {
   "cell_type": "code",
   "execution_count": 13,
   "id": "23527da6",
   "metadata": {},
   "outputs": [],
   "source": [
    "d1 = 0.09122+0.1637\n",
    "a2 = 0.19998\n",
    "a3 = 0.1493+0.1607\n",
    "d6 = 0.1468+0.2449\n",
    "\n",
    "# Desired end-effector position\n",
    "pex = 0\n",
    "pey = 0\n",
    "pez = d1+d6+a2+a3\n",
    "# robot max. height = 1.1566\n",
    "\n",
    "# Desired end-effector orientation\n",
    "yaw = 0\n",
    "pitch = 0\n",
    "roll = 0"
   ]
  },
  {
   "cell_type": "code",
   "execution_count": 14,
   "id": "ca019b55",
   "metadata": {},
   "outputs": [
    {
     "data": {
      "text/plain": [
       "[1.5707963267948966, 0.0, 0.0, 0.0, 6.123233995736766e-17, 0.0]"
      ]
     },
     "execution_count": 14,
     "metadata": {},
     "output_type": "execute_result"
    }
   ],
   "source": [
    "IK(pex, pey, pez, yaw, pitch, roll)"
   ]
  },
  {
   "cell_type": "markdown",
   "id": "02d32917",
   "metadata": {},
   "source": [
    "***\n",
    "\n",
    "## Computation of the Forward Kinematics"
   ]
  },
  {
   "cell_type": "code",
   "execution_count": 15,
   "id": "4168ce10",
   "metadata": {},
   "outputs": [],
   "source": [
    "d1 = 0.09122+0.1637\n",
    "a2 = 0.19998\n",
    "a3 = 0.1493+0.1607\n",
    "d6 = 0.1468+0.2449\n",
    "\n",
    "# Desired joint angles\n",
    "theta1 = 90\n",
    "theta2 = 0\n",
    "theta3 = 0\n",
    "theta4 = 0\n",
    "theta5 = 0\n",
    "theta6 = 0"
   ]
  },
  {
   "cell_type": "code",
   "execution_count": 16,
   "id": "76d4bb30",
   "metadata": {},
   "outputs": [
    {
     "name": "stdout",
     "output_type": "stream",
     "text": [
      "x = 3.122726873145836e-17\n",
      "y = 3.122726873145836e-17\n",
      "z = 1.1566\n"
     ]
    },
    {
     "data": {
      "text/plain": [
       "(0.0, -0.0, 1.2246467991473532e-16)"
      ]
     },
     "execution_count": 16,
     "metadata": {},
     "output_type": "execute_result"
    }
   ],
   "source": [
    "# Convert the angles obtained in the simulation to the angles defined in the model (>< Inverse Kinematics)\n",
    "theta1 = math.radians(theta1) - math.pi/2\n",
    "theta2 = - math.radians(theta2) + math.pi/2\n",
    "theta3 = math.radians(theta3)\n",
    "theta4 = math.radians(theta5)\n",
    "theta5 = math.radians(theta4) + math.pi/2\n",
    "theta6 = math.radians(theta6) - math.pi/2\n",
    "\n",
    "x, y, z, R = forwardKinematics(theta1, theta2, theta3, theta4, theta5, theta6)\n",
    "\n",
    "print(\"x = \" + str(x))\n",
    "print(\"y = \" + str(y))\n",
    "print(\"z = \" + str(z))\n",
    "\n",
    "rotationMatrix_to_EulerAngles(R)"
   ]
  }
 ],
 "metadata": {
  "kernelspec": {
   "display_name": "Python 3 (ipykernel)",
   "language": "python",
   "name": "python3"
  },
  "language_info": {
   "codemirror_mode": {
    "name": "ipython",
    "version": 3
   },
   "file_extension": ".py",
   "mimetype": "text/x-python",
   "name": "python",
   "nbconvert_exporter": "python",
   "pygments_lexer": "ipython3",
   "version": "3.9.7"
  }
 },
 "nbformat": 4,
 "nbformat_minor": 5
}
